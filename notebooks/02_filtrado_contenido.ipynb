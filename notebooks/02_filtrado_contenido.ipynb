{
 "cells": [
  {
   "cell_type": "markdown",
   "id": "75ffade1",
   "metadata": {},
   "source": [
    "# 02 - Sistema de Recomendación: Filtrado por Contenido\n",
    "\n",
    "Este notebook implementa un sistema de recomendación basado en las características de los ítems."
   ]
  },
  {
   "cell_type": "code",
   "execution_count": null,
   "id": "338c3493",
   "metadata": {},
   "outputs": [],
   "source": [
    "import pandas as pd\n",
    "from sklearn.feature_extraction.text import TfidfVectorizer\n",
    "from sklearn.metrics.pairwise import cosine_similarity\n",
    "\n",
    "# Dataset simulado con características de ítems\n",
    "items = pd.DataFrame({\n",
    "    'item_id': ['A', 'B', 'C', 'D'],\n",
    "    'description': ['acción aventura', 'drama romance', 'acción comedia', 'romance aventura']\n",
    "})\n",
    "\n",
    "# Vectorización TF-IDF\n",
    "tfidf = TfidfVectorizer()\n",
    "tfidf_matrix = tfidf.fit_transform(items['description'])\n",
    "\n",
    "# Similaridad de coseno\n",
    "cos_sim = cosine_similarity(tfidf_matrix)\n",
    "\n",
    "# Mostrar matriz de similitud\n",
    "pd.DataFrame(cos_sim, index=items['item_id'], columns=items['item_id'])"
   ]
  },
  {
   "cell_type": "code",
   "execution_count": null,
   "id": "9f4c8f16",
   "metadata": {},
   "outputs": [],
   "source": [
    "# Recomendaciones para el ítem 'A'\n",
    "item_index = items[items['item_id'] == 'A'].index[0]\n",
    "similar_indices = cos_sim[item_index].argsort()[::-1][1:3]\n",
    "\n",
    "print(\"Recomendaciones para 'A':\")\n",
    "for idx in similar_indices:\n",
    "    print(f\"- {items.iloc[idx]['item_id']} ({items.iloc[idx]['description']})\")"
   ]
  }
 ],
 "metadata": {},
 "nbformat": 4,
 "nbformat_minor": 5
}
