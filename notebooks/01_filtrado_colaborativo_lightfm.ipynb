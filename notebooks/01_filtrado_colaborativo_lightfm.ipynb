{
 "cells": [
  {
   "cell_type": "markdown",
   "id": "76e327eb",
   "metadata": {},
   "source": [
    "# 01 - Sistema de Recomendación con LightFM (Filtrado Colaborativo)\n",
    "\n",
    "Este notebook implementa un sistema de recomendación usando la librería `lightfm`, que permite usar filtrado colaborativo o híbrido con facilidad."
   ]
  },
  {
   "cell_type": "code",
   "execution_count": null,
   "id": "31d8f14b",
   "metadata": {},
   "outputs": [],
   "source": [
    "# Instalación (si estás en Colab o no lo tienes instalado)\n",
    "# !pip install lightfm\n",
    "\n",
    "import pandas as pd\n",
    "from lightfm import LightFM\n",
    "from lightfm.data import Dataset\n",
    "from lightfm.evaluation import precision_at_k\n",
    "import numpy as np\n",
    "\n",
    "# Cargar datos\n",
    "df = pd.read_csv('../data/ratings.csv')\n",
    "df['rating'] = df['rating'].astype(float)\n",
    "\n",
    "# Crear dataset en formato LightFM\n",
    "dataset = Dataset()\n",
    "dataset.fit(users=df['user_id'], items=df['item_id'])\n",
    "interactions, _ = dataset.build_interactions([(x['user_id'], x['item_id'], x['rating']) for _, x in df.iterrows()])\n",
    "\n",
    "# Crear modelo\n",
    "model = LightFM(loss='warp')  # Alternativas: 'warp', 'bpr', 'logistic'\n",
    "model.fit(interactions, epochs=10, num_threads=2)\n",
    "\n",
    "# Evaluar el modelo\n",
    "precision = precision_at_k(model, interactions, k=3).mean()\n",
    "print(f\"Precisión@3: {precision:.4f}\")"
   ]
  },
  {
   "cell_type": "code",
   "execution_count": null,
   "id": "53fc62de",
   "metadata": {},
   "outputs": [],
   "source": [
    "# Generar recomendaciones para cada usuario\n",
    "def sample_recommendation(model, interactions, user_ids, dataset, num_items=3):\n",
    "    n_users, n_items = interactions.shape\n",
    "    item_labels = list(dataset.mapping()[2].keys())\n",
    "\n",
    "    for user_id in user_ids:\n",
    "        known_positives = [item_labels[i] for i in interactions.tocsr()[user_id].indices]\n",
    "        scores = model.predict(user_id, np.arange(n_items))\n",
    "        top_items = np.argsort(-scores)[:num_items]\n",
    "\n",
    "        print(f\"Usuario {user_id}\")\n",
    "        print(\"  Ya vio: \", known_positives)\n",
    "        print(\"  Recomendado: \", [item_labels[i] for i in top_items])\n",
    "        print(\"\")\n",
    "\n",
    "sample_recommendation(model, interactions, user_ids=[0, 1, 2], dataset=dataset)"
   ]
  }
 ],
 "metadata": {},
 "nbformat": 4,
 "nbformat_minor": 5
}
