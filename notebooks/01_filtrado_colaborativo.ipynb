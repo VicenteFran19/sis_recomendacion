{
 "cells": [
  {
   "cell_type": "markdown",
   "id": "3ec524aa",
   "metadata": {},
   "source": [
    "# 01 - Sistema de Recomendación: Filtrado Colaborativo\n",
    "\n",
    "Este notebook implementa un sistema de recomendación basado en usuarios usando la librería `surprise`."
   ]
  },
  {
   "cell_type": "code",
   "execution_count": null,
   "id": "24fe5d6a",
   "metadata": {},
   "outputs": [],
   "source": [
    "from surprise import Dataset, Reader, KNNBasic\n",
    "from surprise.model_selection import train_test_split\n",
    "from surprise import accuracy\n",
    "import pandas as pd\n",
    "\n",
    "# Cargar dataset\n",
    "df = pd.read_csv('../data/ratings.csv')\n",
    "reader = Reader(rating_scale=(1, 5))\n",
    "data = Dataset.load_from_df(df[['user_id', 'item_id', 'rating']], reader)\n",
    "\n",
    "# Entrenar modelo\n",
    "trainset, testset = train_test_split(data, test_size=0.25)\n",
    "algo = KNNBasic(sim_options={'user_based': True})\n",
    "algo.fit(trainset)\n",
    "\n",
    "# Predecir y evaluar\n",
    "predictions = algo.test(testset)\n",
    "print('RMSE:', accuracy.rmse(predictions))"
   ]
  },
  {
   "cell_type": "code",
   "execution_count": null,
   "id": "830b42e8",
   "metadata": {},
   "outputs": [],
   "source": [
    "# Recomendaciones personalizadas para un usuario\n",
    "from collections import defaultdict\n",
    "\n",
    "def get_top_n(predictions, n=3):\n",
    "    top_n = defaultdict(list)\n",
    "    for uid, iid, true_r, est, _ in predictions:\n",
    "        top_n[uid].append((iid, est))\n",
    "    for uid, user_ratings in top_n.items():\n",
    "        user_ratings.sort(key=lambda x: x[1], reverse=True)\n",
    "        top_n[uid] = user_ratings[:n]\n",
    "    return top_n\n",
    "\n",
    "top_n = get_top_n(predictions, n=3)\n",
    "top_n"
   ]
  }
 ],
 "metadata": {},
 "nbformat": 4,
 "nbformat_minor": 5
}
